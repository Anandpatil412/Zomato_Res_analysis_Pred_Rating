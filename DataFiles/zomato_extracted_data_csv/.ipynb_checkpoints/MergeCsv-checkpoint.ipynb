{
 "cells": [
  {
   "cell_type": "code",
   "execution_count": 8,
   "metadata": {},
   "outputs": [
    {
     "ename": "IndentationError",
     "evalue": "expected an indented block (<ipython-input-8-4300c46b0f12>, line 13)",
     "output_type": "error",
     "traceback": [
      "\u001b[0;36m  File \u001b[0;32m\"<ipython-input-8-4300c46b0f12>\"\u001b[0;36m, line \u001b[0;32m13\u001b[0m\n\u001b[0;31m    list_of_files.append(file)\u001b[0m\n\u001b[0m                ^\u001b[0m\n\u001b[0;31mIndentationError\u001b[0m\u001b[0;31m:\u001b[0m expected an indented block\n"
     ]
    }
   ],
   "source": [
    "#merges csv's in current directory to MergedFile\n",
    "import pandas as pd\n",
    "import os\n",
    "\n",
    "list_of_files = []\n",
    "\n",
    "def mergeCSVs():\n",
    "    path = os.getcwd()\n",
    "    dirs = os.listdir(path)\n",
    "\n",
    "    for file in dirs:\n",
    "        if file.endswith(\".csv\"):\n",
    "            list_of_files.append(file)\n",
    "\n",
    "    #Consolidate all CSV files into one object\n",
    "    result_obj = pd.concat([pd.read_csv(file) for file in list_of_files])\n",
    "    \n",
    "    #Convert the above object into a csv file and export\n",
    "    result_obj.to_csv(\"MergedFile/zomatoData.csv\", index=False, encoding=\"utf-8\")\n",
    "\n",
    "\n",
    "mergeCSVs()"
   ]
  },
  {
   "cell_type": "code",
   "execution_count": null,
   "metadata": {},
   "outputs": [],
   "source": []
  },
  {
   "cell_type": "code",
   "execution_count": null,
   "metadata": {},
   "outputs": [],
   "source": []
  }
 ],
 "metadata": {
  "kernelspec": {
   "display_name": "Python 3",
   "language": "python",
   "name": "python3"
  },
  "language_info": {
   "codemirror_mode": {
    "name": "ipython",
    "version": 3
   },
   "file_extension": ".py",
   "mimetype": "text/x-python",
   "name": "python",
   "nbconvert_exporter": "python",
   "pygments_lexer": "ipython3",
   "version": "3.7.4"
  }
 },
 "nbformat": 4,
 "nbformat_minor": 2
}
