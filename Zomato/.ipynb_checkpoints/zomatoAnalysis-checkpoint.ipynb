{
 "cells": [
  {
   "cell_type": "code",
   "execution_count": 967,
   "metadata": {},
   "outputs": [],
   "source": [
    "#cleans the zomatoData to zomatoCleanData"
   ]
  },
  {
   "cell_type": "code",
   "execution_count": 968,
   "metadata": {},
   "outputs": [],
   "source": [
    "import pandas as pd\n",
    "import numpy as np\n",
    "import ast\n",
    "from datetime import datetime"
   ]
  },
  {
   "cell_type": "code",
   "execution_count": 969,
   "metadata": {},
   "outputs": [],
   "source": [
    "df = pd.read_csv(\"zomato_csv/zomatoData.csv\",encoding = \"ISO-8859-1\",na_values=[\"NaN\",\"[]\"])"
   ]
  },
  {
   "cell_type": "code",
   "execution_count": 970,
   "metadata": {},
   "outputs": [
    {
     "name": "stdout",
     "output_type": "stream",
     "text": [
      "<class 'pandas.core.frame.DataFrame'>\n",
      "RangeIndex: 13919 entries, 0 to 13918\n",
      "Data columns (total 20 columns):\n",
      "restaurant_link           13919 non-null object\n",
      "restaurant_ID             13919 non-null int64\n",
      "restaurant_name           13919 non-null object\n",
      "locality                  13919 non-null object\n",
      "restaurant_category       13907 non-null object\n",
      "photos_taken              13919 non-null int64\n",
      "rating                    12954 non-null object\n",
      "votes                     9361 non-null float64\n",
      "cuisines                  13919 non-null object\n",
      "approx_cost_for_2         13919 non-null int64\n",
      "opening_timings           13894 non-null object\n",
      "address                   13658 non-null object\n",
      "latitude                  12751 non-null float64\n",
      "longitude                 12751 non-null float64\n",
      "more_info                 13908 non-null object\n",
      "featured_in               13919 non-null object\n",
      "most_liked_Food           13799 non-null object\n",
      "most_liked_Service        4395 non-null object\n",
      "most_liked_Look & Feel    3901 non-null object\n",
      "reviews                   8052 non-null object\n",
      "dtypes: float64(3), int64(3), object(14)\n",
      "memory usage: 2.1+ MB\n"
     ]
    }
   ],
   "source": [
    "df.info()"
   ]
  },
  {
   "cell_type": "code",
   "execution_count": 972,
   "metadata": {},
   "outputs": [
    {
     "data": {
      "text/plain": [
       "(13919, 20)"
      ]
     },
     "execution_count": 972,
     "metadata": {},
     "output_type": "execute_result"
    }
   ],
   "source": [
    "df.shape"
   ]
  },
  {
   "cell_type": "code",
   "execution_count": 875,
   "metadata": {},
   "outputs": [],
   "source": [
    "df = df.drop_duplicates(\"restaurant_ID\",keep='first')"
   ]
  },
  {
   "cell_type": "code",
   "execution_count": null,
   "metadata": {},
   "outputs": [],
   "source": [
    "df.shape"
   ]
  },
  {
   "cell_type": "code",
   "execution_count": null,
   "metadata": {},
   "outputs": [],
   "source": [
    "def listToTuple(reviews):\n",
    "    if isinstance(reviews,str):\n",
    "        reviewList = ast.literal_eval(reviews)\n",
    "        if len(reviewList)>0 and isinstance(reviewList,list):\n",
    "            return (reviewList[0],reviewList[1:])"
   ]
  },
  {
   "cell_type": "code",
   "execution_count": 878,
   "metadata": {},
   "outputs": [],
   "source": [
    "df[\"most_liked_Food\"] = df[\"most_liked_Food\"].apply(listToTuple)    "
   ]
  },
  {
   "cell_type": "code",
   "execution_count": 868,
   "metadata": {},
   "outputs": [],
   "source": [
    "df[\"most_liked_Service\"] = df[\"most_liked_Service\"].apply(listToTuple)"
   ]
  },
  {
   "cell_type": "code",
   "execution_count": 869,
   "metadata": {},
   "outputs": [],
   "source": [
    "df[\"most_liked_Look & Feel\"] = df[\"most_liked_Look & Feel\"].apply(listToTuple)"
   ]
  },
  {
   "cell_type": "code",
   "execution_count": 959,
   "metadata": {},
   "outputs": [],
   "source": [
    "def formatTime(timing):\n",
    "    if isinstance(timing,str):\n",
    "        if timing is np.nan or timing == \"[]\":\n",
    "            return \"NA\"\n",
    "        timings = ast.literal_eval(timing)\n",
    "        newtime = ['12:00' if timed == '12noon' else '00:00' if timed == \"12midnight\" else timed if (\"24\" in timed) else datetime.strptime(timed,'%I%p').strftime('%H:%M') if len(timed)<5 else datetime.strptime(timed,'%I:%M%p').strftime('%H:%M') for timed in timings]\n",
    "        return newtime"
   ]
  },
  {
   "cell_type": "code",
   "execution_count": 960,
   "metadata": {},
   "outputs": [],
   "source": [
    "df[\"opening_timings\"] = df[\"opening_timings\"].apply(formatTime)"
   ]
  },
  {
   "cell_type": "code",
   "execution_count": 961,
   "metadata": {},
   "outputs": [],
   "source": [
    "df['cuisines'] = [x.split(\",\") if isinstance(x,str) else x for x in df[\"cuisines\"]]"
   ]
  },
  {
   "cell_type": "code",
   "execution_count": 962,
   "metadata": {},
   "outputs": [],
   "source": [
    "df['more_info'] = [x.split(\",\") if isinstance(x,str) else x for x in df[\"more_info\"]]"
   ]
  },
  {
   "cell_type": "code",
   "execution_count": 873,
   "metadata": {},
   "outputs": [],
   "source": [
    "#df.to_csv(\"zomato_clean_data/zomatoCleanData\"+\".csv\",index=False)"
   ]
  },
  {
   "cell_type": "code",
   "execution_count": null,
   "metadata": {},
   "outputs": [],
   "source": []
  }
 ],
 "metadata": {
  "kernelspec": {
   "display_name": "Python 3",
   "language": "python",
   "name": "python3"
  },
  "language_info": {
   "codemirror_mode": {
    "name": "ipython",
    "version": 3
   },
   "file_extension": ".py",
   "mimetype": "text/x-python",
   "name": "python",
   "nbconvert_exporter": "python",
   "pygments_lexer": "ipython3",
   "version": "3.7.4"
  }
 },
 "nbformat": 4,
 "nbformat_minor": 2
}
